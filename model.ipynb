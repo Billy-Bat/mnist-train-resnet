{
 "cells": [
  {
   "cell_type": "code",
   "execution_count": 40,
   "metadata": {},
   "outputs": [],
   "source": [
    "import os\n",
    "import time\n",
    "\n",
    "import numpy as np\n",
    "import pandas as pd\n",
    "\n",
    "import torch\n",
    "import torch.nn as nn\n",
    "import torch.nn.functional as F\n",
    "from torch.utils.data import DataLoader\n",
    "\n",
    "from torchvision import datasets\n",
    "from torchvision import transforms\n",
    "\n",
    "import matplotlib.pyplot as plt\n",
    "from PIL import Image\n",
    "\n",
    "\n",
    "if torch.cuda.is_available():\n",
    "    torch.backends.cudnn.deterministic = True\n"
   ]
  },
  {
   "cell_type": "markdown",
   "metadata": {},
   "source": [
    "### Set Parameters"
   ]
  },
  {
   "cell_type": "code",
   "execution_count": 41,
   "metadata": {},
   "outputs": [],
   "source": [
    "SEED = 1234\n",
    "LEARNING_RATE = 0.001\n",
    "BATCH_SIZE = 128\n",
    "NUM_EPOCHS = 10\n",
    "\n",
    "NUM_FEATURES = 28*28\n",
    "NUM_CLASSES = 10\n",
    "GRAYSCALE = True"
   ]
  },
  {
   "cell_type": "code",
   "execution_count": 42,
   "metadata": {},
   "outputs": [
    {
     "name": "stdout",
     "output_type": "stream",
     "text": [
      "Image batch dimensions: torch.Size([128, 1, 28, 28])\n",
      "Image label dimensions: torch.Size([128])\n"
     ]
    }
   ],
   "source": [
    "train_dataset = datasets.MNIST(root='data',\n",
    "                               train=True,\n",
    "                               transform=transforms.ToTensor(),\n",
    "                               download=True)\n",
    "\n",
    "test_dataset = datasets.MNIST(root='data',\n",
    "                              train=False,\n",
    "                              transform=transforms.ToTensor(),\n",
    "                              download=True)\n",
    "train_loader = DataLoader(dataset=train_dataset,\n",
    "                          batch_size=BATCH_SIZE,\n",
    "                          shuffle=True)\n",
    "test_loader = DataLoader(dataset=test_dataset,\n",
    "                         batch_size=BATCH_SIZE,\n",
    "                         shuffle=False)\n",
    "\n",
    "# Checking the dataset\n",
    "for images, labels in train_loader:  \n",
    "    print('Image batch dimensions:', images.shape)\n",
    "    print('Image label dimensions:', labels.shape)\n",
    "    break"
   ]
  },
  {
   "cell_type": "markdown",
   "metadata": {},
   "source": [
    "### Check the implementation here\n",
    "\n",
    "https://pytorch.org/docs/0.4.0/_modules/torchvision/models/resnet.html"
   ]
  },
  {
   "cell_type": "code",
   "execution_count": 43,
   "metadata": {},
   "outputs": [],
   "source": [
    "def conv3x3(in_channels, out_channels, stride=1):\n",
    "    \"\"\"3x3 convolution with padding\"\"\"\n",
    "    return nn.Conv2d(\n",
    "        in_channels, out_channels, kernel_size=3, stride=stride, padding=1, bias=False\n",
    "    )\n",
    "\n",
    "class BasicBlock(nn.Module):\n",
    "    expansion = 1\n",
    "\n",
    "    def __init__(self, inplanes, planes, stride=1, downsample=None) -> None:\n",
    "        super(BasicBlock, self).__init__()\n",
    "        self.conv1 = conv3x3(inplanes, planes, stride)\n",
    "        self.bn1 = nn.BatchNorm2d(planes)\n",
    "        self.relu = nn.ReLU(inplace=True) # inplace=True means that it will modify the input directly, without allocating any additional output\n",
    "        self.conv2 = conv3x3(planes, planes)\n",
    "        self.bn2 = nn.BatchNorm2d(planes)\n",
    "        self.downsample = downsample\n",
    "        self.stride = stride\n",
    "\n",
    "    def forward(self, x):\n",
    "        residual = x\n",
    "\n",
    "        out = self.conv1(x)\n",
    "        out = self.bn1(out)\n",
    "        out = self.relu(out)\n",
    "\n",
    "        out = self.conv2(out)\n",
    "        out = self.bn2(out)\n",
    "\n",
    "        if self.downsample is not None:\n",
    "            residual = self.downsample(x)\n",
    "\n",
    "        out += residual # skip \n",
    "        out = self.relu(out)\n",
    "\n",
    "\n",
    "        return out\n",
    "\n",
    "class ResNet(nn.Module):\n",
    "\n",
    "    def __init__(self, block, layers, num_classes, grayscale):\n",
    "        self.inplanes = 64\n",
    "        if grayscale:\n",
    "            in_dim = 1\n",
    "        else:\n",
    "            in_dim = 3\n",
    "        super(ResNet, self).__init__()\n",
    "        self.conv1 = nn.Conv2d(\n",
    "            in_dim, 64, kernel_size=7, stride=2, padding=3, bias=False\n",
    "        )\n",
    "        self.bn1 = nn.BatchNorm2d(64)\n",
    "        self.relu = nn.ReLU(inplace=True)\n",
    "        self.maxpool = nn.MaxPool2d(\n",
    "            kernel_size=3, stride=2, padding=1\n",
    "        )\n",
    "        self.layer1 = self._make_layer(block, 64, layers[0])\n",
    "        self.layer2 = self._make_layer(block, 128, layers[1], stride=2)\n",
    "        self.layer3 = self._make_layer(block, 256, layers[2], stride=2)\n",
    "        self.layer4 = self._make_layer(block, 512, layers[3], stride=2)\n",
    "\n",
    "        self.avgpool = nn.AvgPool2d(7, stride=1)\n",
    "        self.fc = nn.Linear(512 * block.expansion, num_classes)\n",
    "\n",
    "        for m in self.modules():\n",
    "            # initialize the weights\n",
    "            if isinstance(m, nn.Conv2d):\n",
    "                nn.init.kaiming_normal_(\n",
    "                    m.weight, mode=\"fan_out\", nonlinearity=\"relu\"\n",
    "                )\n",
    "            elif isinstance(m, nn.BatchNorm2d):\n",
    "                nn.init.constant_(m.weight, 1)\n",
    "                nn.init.constant_(m.bias, 0)\n",
    "\n",
    "    def _make_layer(self, block, planes, blocks, stride=1):\n",
    "        downsample = None\n",
    "        if stride != 1 or self.inplanes != planes * block.expansion:\n",
    "            downsample = nn.Sequential(\n",
    "                nn.Conv2d(\n",
    "                    self.inplanes,\n",
    "                    planes * block.expansion,\n",
    "                    kernel_size=1,\n",
    "                    stride=stride,\n",
    "                    bias=False,\n",
    "                ),\n",
    "                nn.BatchNorm2d(planes * block.expansion),\n",
    "            )\n",
    "        layers = []\n",
    "        layers.append(\n",
    "            block(self.inplanes, planes, stride, downsample)\n",
    "        )\n",
    "        self.inplanes = planes * block.expansion\n",
    "        for _ in range(1, blocks):\n",
    "            layers.append(block(self.inplanes, planes))\n",
    "\n",
    "        return nn.Sequential(*layers)\n",
    "    \n",
    "\n",
    "    def forward(self, x):\n",
    "        x = self.conv1(x)\n",
    "        x = self.bn1(x)\n",
    "        x = self.relu(x)\n",
    "        x = self.maxpool(x)\n",
    "\n",
    "        x = self.layer1(x)\n",
    "        x = self.layer2(x)\n",
    "        x = self.layer3(x)\n",
    "        x = self.layer4(x)\n",
    "\n",
    "        x = x.view(x.size(0), -1)\n",
    "\n",
    "        logits = self.fc(x)\n",
    "        probas = F.softmax(logits, dim=1)\n",
    "        return logits, probas\n",
    "    \n",
    "def resnet18(num_classes):\n",
    "    \"\"\"Constructs a ResNet-18 model.\"\"\"\n",
    "    model = ResNet(block=BasicBlock, \n",
    "                   layers=[2, 2, 2, 2],\n",
    "                   num_classes=NUM_CLASSES,\n",
    "                   grayscale=GRAYSCALE)\n",
    "    return model\n"
   ]
  },
  {
   "cell_type": "markdown",
   "metadata": {},
   "source": [
    "### Accuracy"
   ]
  },
  {
   "cell_type": "code",
   "execution_count": 44,
   "metadata": {},
   "outputs": [],
   "source": [
    "def compute_accuracy(model, data_loader, device):\n",
    "    correct_pred, num_examples = 0, 0\n",
    "    for features, targets in data_loader:\n",
    "        features = features.to(device)\n",
    "        targets = targets.to(device)\n",
    "        logits, probas = model(features)\n",
    "        _, predicted_labels = torch.max(probas, 1)\n",
    "        num_examples += targets.size(0)\n",
    "        correct_pred += (predicted_labels == targets).sum()\n",
    "    return correct_pred.float() / num_examples * 100"
   ]
  },
  {
   "cell_type": "code",
   "execution_count": 45,
   "metadata": {},
   "outputs": [
    {
     "name": "stderr",
     "output_type": "stream",
     "text": [
      "  0%|          | 0/10 [00:00<?, ?it/s]"
     ]
    },
    {
     "name": "stdout",
     "output_type": "stream",
     "text": [
      "Epoch: 001/010 | Batch 0000/0469 | Cost: 2.5395\n",
      "Epoch: 001/010 | Batch 0050/0469 | Cost: 0.1715\n",
      "Epoch: 001/010 | Batch 0100/0469 | Cost: 0.1552\n",
      "Epoch: 001/010 | Batch 0150/0469 | Cost: 0.1312\n",
      "Epoch: 001/010 | Batch 0200/0469 | Cost: 0.1527\n",
      "Epoch: 001/010 | Batch 0250/0469 | Cost: 0.1730\n",
      "Epoch: 001/010 | Batch 0300/0469 | Cost: 0.0570\n",
      "Epoch: 001/010 | Batch 0350/0469 | Cost: 0.0641\n",
      "Epoch: 001/010 | Batch 0400/0469 | Cost: 0.1024\n",
      "Epoch: 001/010 | Batch 0450/0469 | Cost: 0.0723\n"
     ]
    },
    {
     "name": "stderr",
     "output_type": "stream",
     "text": [
      " 10%|█         | 1/10 [08:16<1:14:29, 496.59s/it]"
     ]
    },
    {
     "name": "stdout",
     "output_type": "stream",
     "text": [
      "Epoch: 002/010 | Batch 0000/0469 | Cost: 0.0313\n",
      "Epoch: 002/010 | Batch 0050/0469 | Cost: 0.0876\n",
      "Epoch: 002/010 | Batch 0100/0469 | Cost: 0.0510\n",
      "Epoch: 002/010 | Batch 0150/0469 | Cost: 0.0415\n",
      "Epoch: 002/010 | Batch 0200/0469 | Cost: 0.1683\n",
      "Epoch: 002/010 | Batch 0250/0469 | Cost: 0.0386\n",
      "Epoch: 002/010 | Batch 0300/0469 | Cost: 0.0842\n",
      "Epoch: 002/010 | Batch 0350/0469 | Cost: 0.1842\n",
      "Epoch: 002/010 | Batch 0400/0469 | Cost: 0.0550\n",
      "Epoch: 002/010 | Batch 0450/0469 | Cost: 0.0423\n"
     ]
    },
    {
     "name": "stderr",
     "output_type": "stream",
     "text": [
      " 20%|██        | 2/10 [16:20<1:05:12, 489.01s/it]"
     ]
    },
    {
     "name": "stdout",
     "output_type": "stream",
     "text": [
      "Epoch: 003/010 | Batch 0000/0469 | Cost: 0.4725\n",
      "Epoch: 003/010 | Batch 0050/0469 | Cost: 0.0540\n",
      "Epoch: 003/010 | Batch 0100/0469 | Cost: 0.0447\n",
      "Epoch: 003/010 | Batch 0150/0469 | Cost: 0.0460\n",
      "Epoch: 003/010 | Batch 0200/0469 | Cost: 0.0026\n",
      "Epoch: 003/010 | Batch 0250/0469 | Cost: 0.0555\n",
      "Epoch: 003/010 | Batch 0300/0469 | Cost: 0.0422\n",
      "Epoch: 003/010 | Batch 0350/0469 | Cost: 0.0077\n",
      "Epoch: 003/010 | Batch 0400/0469 | Cost: 0.0503\n",
      "Epoch: 003/010 | Batch 0450/0469 | Cost: 0.0373\n"
     ]
    },
    {
     "name": "stderr",
     "output_type": "stream",
     "text": [
      " 30%|███       | 3/10 [24:15<56:19, 482.81s/it]  "
     ]
    },
    {
     "name": "stdout",
     "output_type": "stream",
     "text": [
      "Epoch: 004/010 | Batch 0000/0469 | Cost: 0.1782\n",
      "Epoch: 004/010 | Batch 0050/0469 | Cost: 0.0081\n",
      "Epoch: 004/010 | Batch 0100/0469 | Cost: 0.0423\n",
      "Epoch: 004/010 | Batch 0150/0469 | Cost: 0.0288\n",
      "Epoch: 004/010 | Batch 0200/0469 | Cost: 0.0048\n",
      "Epoch: 004/010 | Batch 0250/0469 | Cost: 0.0694\n",
      "Epoch: 004/010 | Batch 0300/0469 | Cost: 0.0885\n",
      "Epoch: 004/010 | Batch 0350/0469 | Cost: 0.0533\n",
      "Epoch: 004/010 | Batch 0400/0469 | Cost: 0.0596\n",
      "Epoch: 004/010 | Batch 0450/0469 | Cost: 0.0799\n"
     ]
    },
    {
     "name": "stderr",
     "output_type": "stream",
     "text": [
      " 40%|████      | 4/10 [31:58<47:29, 474.91s/it]"
     ]
    },
    {
     "name": "stdout",
     "output_type": "stream",
     "text": [
      "Epoch: 005/010 | Batch 0000/0469 | Cost: 0.4053\n",
      "Epoch: 005/010 | Batch 0050/0469 | Cost: 0.0365\n",
      "Epoch: 005/010 | Batch 0100/0469 | Cost: 0.0454\n",
      "Epoch: 005/010 | Batch 0150/0469 | Cost: 0.0069\n",
      "Epoch: 005/010 | Batch 0200/0469 | Cost: 0.0248\n",
      "Epoch: 005/010 | Batch 0250/0469 | Cost: 0.0372\n",
      "Epoch: 005/010 | Batch 0300/0469 | Cost: 0.0391\n",
      "Epoch: 005/010 | Batch 0350/0469 | Cost: 0.0314\n",
      "Epoch: 005/010 | Batch 0400/0469 | Cost: 0.0050\n",
      "Epoch: 005/010 | Batch 0450/0469 | Cost: 0.0160\n"
     ]
    },
    {
     "name": "stderr",
     "output_type": "stream",
     "text": [
      " 50%|█████     | 5/10 [39:25<38:45, 465.00s/it]"
     ]
    },
    {
     "name": "stdout",
     "output_type": "stream",
     "text": [
      "Epoch: 006/010 | Batch 0000/0469 | Cost: 0.5787\n",
      "Epoch: 006/010 | Batch 0050/0469 | Cost: 0.0133\n",
      "Epoch: 006/010 | Batch 0100/0469 | Cost: 0.1367\n",
      "Epoch: 006/010 | Batch 0150/0469 | Cost: 0.0391\n",
      "Epoch: 006/010 | Batch 0200/0469 | Cost: 0.0022\n",
      "Epoch: 006/010 | Batch 0250/0469 | Cost: 0.0092\n",
      "Epoch: 006/010 | Batch 0300/0469 | Cost: 0.0009\n",
      "Epoch: 006/010 | Batch 0350/0469 | Cost: 0.0629\n",
      "Epoch: 006/010 | Batch 0400/0469 | Cost: 0.0131\n",
      "Epoch: 006/010 | Batch 0450/0469 | Cost: 0.0240\n"
     ]
    },
    {
     "name": "stderr",
     "output_type": "stream",
     "text": [
      " 60%|██████    | 6/10 [47:03<30:49, 462.44s/it]"
     ]
    },
    {
     "name": "stdout",
     "output_type": "stream",
     "text": [
      "Epoch: 007/010 | Batch 0000/0469 | Cost: 0.8569\n",
      "Epoch: 007/010 | Batch 0050/0469 | Cost: 0.0041\n",
      "Epoch: 007/010 | Batch 0100/0469 | Cost: 0.0441\n",
      "Epoch: 007/010 | Batch 0150/0469 | Cost: 0.0049\n",
      "Epoch: 007/010 | Batch 0200/0469 | Cost: 0.0504\n",
      "Epoch: 007/010 | Batch 0250/0469 | Cost: 0.0120\n",
      "Epoch: 007/010 | Batch 0300/0469 | Cost: 0.0468\n",
      "Epoch: 007/010 | Batch 0350/0469 | Cost: 0.0361\n",
      "Epoch: 007/010 | Batch 0400/0469 | Cost: 0.0084\n",
      "Epoch: 007/010 | Batch 0450/0469 | Cost: 0.0200\n"
     ]
    },
    {
     "name": "stderr",
     "output_type": "stream",
     "text": [
      " 70%|███████   | 7/10 [54:41<23:02, 460.85s/it]"
     ]
    },
    {
     "name": "stdout",
     "output_type": "stream",
     "text": [
      "Epoch: 008/010 | Batch 0000/0469 | Cost: 0.3967\n",
      "Epoch: 008/010 | Batch 0050/0469 | Cost: 0.0146\n",
      "Epoch: 008/010 | Batch 0100/0469 | Cost: 0.0276\n",
      "Epoch: 008/010 | Batch 0150/0469 | Cost: 0.0006\n",
      "Epoch: 008/010 | Batch 0200/0469 | Cost: 0.0040\n",
      "Epoch: 008/010 | Batch 0250/0469 | Cost: 0.0036\n",
      "Epoch: 008/010 | Batch 0300/0469 | Cost: 0.0048\n",
      "Epoch: 008/010 | Batch 0350/0469 | Cost: 0.0222\n",
      "Epoch: 008/010 | Batch 0400/0469 | Cost: 0.0056\n",
      "Epoch: 008/010 | Batch 0450/0469 | Cost: 0.0021\n"
     ]
    },
    {
     "name": "stderr",
     "output_type": "stream",
     "text": [
      " 80%|████████  | 8/10 [1:02:17<15:18, 459.43s/it]"
     ]
    },
    {
     "name": "stdout",
     "output_type": "stream",
     "text": [
      "Epoch: 009/010 | Batch 0000/0469 | Cost: 0.3907\n",
      "Epoch: 009/010 | Batch 0050/0469 | Cost: 0.0071\n",
      "Epoch: 009/010 | Batch 0100/0469 | Cost: 0.1077\n",
      "Epoch: 009/010 | Batch 0150/0469 | Cost: 0.0003\n",
      "Epoch: 009/010 | Batch 0200/0469 | Cost: 0.0043\n",
      "Epoch: 009/010 | Batch 0250/0469 | Cost: 0.0238\n",
      "Epoch: 009/010 | Batch 0300/0469 | Cost: 0.0383\n",
      "Epoch: 009/010 | Batch 0350/0469 | Cost: 0.0135\n",
      "Epoch: 009/010 | Batch 0400/0469 | Cost: 0.0034\n",
      "Epoch: 009/010 | Batch 0450/0469 | Cost: 0.0319\n"
     ]
    },
    {
     "name": "stderr",
     "output_type": "stream",
     "text": [
      " 90%|█████████ | 9/10 [1:10:04<07:41, 461.77s/it]"
     ]
    },
    {
     "name": "stdout",
     "output_type": "stream",
     "text": [
      "Epoch: 010/010 | Batch 0000/0469 | Cost: 1.7708\n",
      "Epoch: 010/010 | Batch 0050/0469 | Cost: 0.0116\n",
      "Epoch: 010/010 | Batch 0100/0469 | Cost: 0.0332\n",
      "Epoch: 010/010 | Batch 0150/0469 | Cost: 0.0010\n",
      "Epoch: 010/010 | Batch 0200/0469 | Cost: 0.0042\n",
      "Epoch: 010/010 | Batch 0250/0469 | Cost: 0.0551\n",
      "Epoch: 010/010 | Batch 0300/0469 | Cost: 0.0059\n",
      "Epoch: 010/010 | Batch 0350/0469 | Cost: 0.0019\n",
      "Epoch: 010/010 | Batch 0400/0469 | Cost: 0.0015\n",
      "Epoch: 010/010 | Batch 0450/0469 | Cost: 0.0352\n"
     ]
    },
    {
     "name": "stderr",
     "output_type": "stream",
     "text": [
      "100%|██████████| 10/10 [1:17:54<00:00, 467.41s/it]\n"
     ]
    },
    {
     "name": "stdout",
     "output_type": "stream",
     "text": [
      "Epoch: 010/010 | Train: 99.227%\n",
      "Time elapsed: 82.37 min\n",
      "Total Training Time: 82.38 min\n"
     ]
    }
   ],
   "source": [
    "from tqdm import tqdm\n",
    "\n",
    "torch.manual_seed(SEED)\n",
    "\n",
    "DEVICE = \"cuda:1\" if torch.cuda.is_available() else \"cpu\"\n",
    "\n",
    "model = resnet18(NUM_CLASSES)\n",
    "model.to(DEVICE)\n",
    "\n",
    "optimizer = torch.optim.Adam(model.parameters(), lr=LEARNING_RATE)\n",
    "\n",
    "start_time = time.time()\n",
    "for epoch in tqdm(range(NUM_EPOCHS)):\n",
    "\n",
    "    model.train()\n",
    "    for batch_idx, (features, targets) in enumerate(train_loader):\n",
    "\n",
    "        features = features.to(DEVICE)\n",
    "        targets = targets.to(DEVICE)\n",
    "\n",
    "        logits, probas = model(features)\n",
    "        cost = F.cross_entropy(logits, targets)\n",
    "        optimizer.zero_grad()\n",
    "\n",
    "        cost.backward()\n",
    "\n",
    "        optimizer.step()\n",
    "\n",
    "        if not batch_idx % 50:\n",
    "            print ('Epoch: %03d/%03d | Batch %04d/%04d | Cost: %.4f' \n",
    "                   %(epoch+1, NUM_EPOCHS, batch_idx, \n",
    "                     len(train_loader), cost))\n",
    "            \n",
    "        model.eval()\n",
    "\n",
    "with torch.set_grad_enabled(False): # save memory during inference\n",
    "    print('Epoch: %03d/%03d | Train: %.3f%%' % (\n",
    "              epoch+1, NUM_EPOCHS, \n",
    "              compute_accuracy(model, train_loader, device=DEVICE)))\n",
    "        \n",
    "    print('Time elapsed: %.2f min' % ((time.time() - start_time)/60))\n",
    "    \n",
    "print('Total Training Time: %.2f min' % ((time.time() - start_time)/60))        "
   ]
  },
  {
   "cell_type": "markdown",
   "metadata": {},
   "source": [
    "# Evaluate the model"
   ]
  },
  {
   "cell_type": "code",
   "execution_count": 46,
   "metadata": {},
   "outputs": [
    {
     "name": "stdout",
     "output_type": "stream",
     "text": [
      "Test accuracy: 98.77%\n"
     ]
    }
   ],
   "source": [
    "with torch.set_grad_enabled(False): # save memory during inference\n",
    "    print('Test accuracy: %.2f%%' % (compute_accuracy(model, test_loader, device=DEVICE)))"
   ]
  },
  {
   "cell_type": "code",
   "execution_count": 47,
   "metadata": {},
   "outputs": [
    {
     "data": {
      "text/plain": [
       "<matplotlib.image.AxesImage at 0x1214b1cd0>"
      ]
     },
     "execution_count": 47,
     "metadata": {},
     "output_type": "execute_result"
    },
    {
     "data": {
      "image/png": "[encoded data removed]",
      "text/plain": [
       "<Figure size 640x480 with 1 Axes>"
      ]
     },
     "metadata": {},
     "output_type": "display_data"
    }
   ],
   "source": [
    "for batch_idx, (features, targets) in enumerate(test_loader):\n",
    "\n",
    "    features = features\n",
    "    targets = targets\n",
    "    break\n",
    "\n",
    "nhwc_img = np.transpose(features[0], axes=(1, 2, 0))\n",
    "nhw_img = np.squeeze(nhwc_img.numpy(), axis=2)\n",
    "plt.imshow(nhw_img, cmap='Greys')"
   ]
  },
  {
   "cell_type": "code",
   "execution_count": 48,
   "metadata": {},
   "outputs": [
    {
     "name": "stdout",
     "output_type": "stream",
     "text": [
      "Probability 7 100.00%\n"
     ]
    }
   ],
   "source": [
    "model.eval()\n",
    "logit, probas = model(features.to(DEVICE)[0, None])\n",
    "print('Probability 7 %.2f%%' % (probas[0][7]*100))"
   ]
  }
 ],
 "metadata": {
  "kernelspec": {
   "display_name": "jupyterlab",
   "language": "python",
   "name": "python3"
  },
  "language_info": {
   "codemirror_mode": {
    "name": "ipython",
    "version": 3
   },
   "file_extension": ".py",
   "mimetype": "text/x-python",
   "name": "python",
   "nbconvert_exporter": "python",
   "pygments_lexer": "ipython3",
   "version": "3.11.6"
  }
 },
 "nbformat": 4,
 "nbformat_minor": 2
}
